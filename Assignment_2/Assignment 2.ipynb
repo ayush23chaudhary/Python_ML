{
 "cells": [
  {
   "cell_type": "markdown",
   "id": "d6c6926c",
   "metadata": {},
   "source": [
    "ASSIGNMENT 2"
   ]
  },
  {
   "cell_type": "markdown",
   "id": "d4f19133",
   "metadata": {},
   "source": [
    "Task 1: Creating Arrays\n",
    "\n",
    "1. Write a Python program to:\n",
    "o Create a 1D NumPy array of 10 integers ranging from 1 to 10."
   ]
  },
  {
   "cell_type": "code",
   "execution_count": null,
   "id": "9f6fdbb8",
   "metadata": {},
   "outputs": [
    {
     "name": "stdout",
     "output_type": "stream",
     "text": [
      "[ 1  2  3  4  5  6  7  8  9 10]\n"
     ]
    }
   ],
   "source": [
    "import numpy as np\n",
    "arr1=np.arange(1,11)\n",
    "print(arr1)"
   ]
  },
  {
   "cell_type": "markdown",
   "id": "9505ad5e",
   "metadata": {},
   "source": [
    "o Create a 2D NumPy array of shape (3, 3) with integers from 1\n",
    "to 9?"
   ]
  },
  {
   "cell_type": "code",
   "execution_count": null,
   "id": "e50eaa7a",
   "metadata": {},
   "outputs": [
    {
     "name": "stdout",
     "output_type": "stream",
     "text": [
      "[[1 2 3]\n",
      " [4 5 6]\n",
      " [7 8 9]]\n"
     ]
    }
   ],
   "source": [
    "arr2=np.arange(1,10).reshape(3,3)\n",
    "print(arr2)"
   ]
  },
  {
   "cell_type": "markdown",
   "id": "495dfef4",
   "metadata": {},
   "source": [
    "o Create a 3D NumPy array with random floating-point numbers\n",
    "of shape (3, 5, 3)?"
   ]
  },
  {
   "cell_type": "code",
   "execution_count": null,
   "id": "06e4336d",
   "metadata": {},
   "outputs": [
    {
     "name": "stdout",
     "output_type": "stream",
     "text": [
      "[[[0.58773169 0.85019695 0.0446    ]\n",
      "  [0.05934204 0.51035736 0.53517081]\n",
      "  [0.25043038 0.09043132 0.46461288]\n",
      "  [0.69395056 0.29812444 0.72832347]\n",
      "  [0.51910729 0.08478812 0.43657058]]\n",
      "\n",
      " [[0.72136031 0.8505517  0.34545654]\n",
      "  [0.13342286 0.55442111 0.56980212]\n",
      "  [0.31825581 0.42234392 0.33411344]\n",
      "  [0.95357574 0.38364436 0.9619043 ]\n",
      "  [0.34432657 0.7418587  0.62923491]]\n",
      "\n",
      " [[0.14213649 0.66738863 0.73372887]\n",
      "  [0.2409206  0.05079188 0.29234007]\n",
      "  [0.46695071 0.41257533 0.82213427]\n",
      "  [0.49689135 0.66227789 0.1037788 ]\n",
      "  [0.832973   0.2430936  0.89446048]]]\n"
     ]
    }
   ],
   "source": [
    "arr3=np.random.rand(3,5,3)\n",
    "print(arr3)"
   ]
  },
  {
   "cell_type": "markdown",
   "id": "9d4268a9",
   "metadata": {},
   "source": [
    "2. Display the shape, size, and datatype of each array."
   ]
  },
  {
   "cell_type": "code",
   "execution_count": null,
   "id": "66392176",
   "metadata": {},
   "outputs": [
    {
     "name": "stdout",
     "output_type": "stream",
     "text": [
      "\n",
      "1D Array:\n",
      "[ 1  2  3  4  5  6  7  8  9 10]\n",
      "Shape: (10,)\n",
      "Size: 10\n",
      "Datatype: int32\n",
      "\n",
      "2D Array:\n",
      "[[1 2 3]\n",
      " [4 5 6]\n",
      " [7 8 9]]\n",
      "Shape: (3, 3)\n",
      "Size: 9\n",
      "Datatype: int32\n",
      "\n",
      "3D Array:\n",
      "[[[0.17597694 0.06143292 0.93166092]\n",
      "  [0.18780816 0.76749266 0.58992899]\n",
      "  [0.33581525 0.17964102 0.38680398]\n",
      "  [0.31367196 0.33849502 0.82533226]\n",
      "  [0.22197075 0.59027971 0.42959397]]\n",
      "\n",
      " [[0.48878886 0.3480948  0.70766355]\n",
      "  [0.32451352 0.7504634  0.59910224]\n",
      "  [0.13305828 0.05261188 0.19972097]\n",
      "  [0.15486928 0.60141821 0.07952718]\n",
      "  [0.34941752 0.45451776 0.23660509]]\n",
      "\n",
      " [[0.10856478 0.10490206 0.78004115]\n",
      "  [0.69878788 0.21399823 0.84424822]\n",
      "  [0.13908156 0.33740893 0.59914032]\n",
      "  [0.22733718 0.53222916 0.0795441 ]\n",
      "  [0.65095058 0.31765354 0.54269291]]]\n",
      "Shape: (3, 5, 3)\n",
      "Size: 45\n",
      "Datatype: float64\n"
     ]
    }
   ],
   "source": [
    "def display_info(name, array):\n",
    "    print(f\"\\n{name}:\")\n",
    "    print(array)\n",
    "    print(f\"Shape: {array.shape}\")\n",
    "    print(f\"Size: {array.size}\")\n",
    "    print(f\"Datatype: {array.dtype}\")\n",
    "\n",
    "display_info(\"1D Array\", arr1)\n",
    "display_info(\"2D Array\", arr2)\n",
    "display_info(\"3D Array\", arr3)"
   ]
  },
  {
   "cell_type": "markdown",
   "id": "f9770ea6",
   "metadata": {},
   "source": [
    "Task 2: Array Indexing and Slicing\n",
    "\n",
    "1. Create a NumPy array from the following list:\n",
    "data = [10, 20, 30, 40, 50, 60, 70, 80, 90]"
   ]
  },
  {
   "cell_type": "code",
   "execution_count": null,
   "id": "71c5588a",
   "metadata": {},
   "outputs": [
    {
     "name": "stdout",
     "output_type": "stream",
     "text": [
      "[10 20 30 40 50 60 70 80 90]\n"
     ]
    }
   ],
   "source": [
    "data=[10, 20, 30, 40, 50, 60, 70, 80, 90]\n",
    "arr=np.array(data)\n",
    "print(arr)"
   ]
  },
  {
   "cell_type": "markdown",
   "id": "05cc4de8",
   "metadata": {},
   "source": [
    "2. Write a Python program to:\n",
    "o Retrieve the first three elements of the array.\n",
    "o Retrieve every alternate element of the array.\n",
    "o Reverse the array.\n",
    "3. Perform the above operations and display the results"
   ]
  },
  {
   "cell_type": "code",
   "execution_count": null,
   "id": "350f6691",
   "metadata": {},
   "outputs": [
    {
     "name": "stdout",
     "output_type": "stream",
     "text": [
      "[10 20 30]\n"
     ]
    }
   ],
   "source": [
    "print(arr[:3])"
   ]
  },
  {
   "cell_type": "code",
   "execution_count": null,
   "id": "69ea93ab",
   "metadata": {},
   "outputs": [
    {
     "name": "stdout",
     "output_type": "stream",
     "text": [
      "[10 20 30 40 50 60 70 80 90]\n"
     ]
    }
   ],
   "source": [
    "print(arr[::2])"
   ]
  },
  {
   "cell_type": "code",
   "execution_count": null,
   "id": "1308ed66",
   "metadata": {},
   "outputs": [
    {
     "name": "stdout",
     "output_type": "stream",
     "text": [
      "[90 80 70 60 50 40 30 20 10]\n"
     ]
    }
   ],
   "source": [
    "print(arr[::-1])"
   ]
  },
  {
   "cell_type": "markdown",
   "id": "e48fbdd0",
   "metadata": {},
   "source": [
    "Task 3: Mathematical Operations\n",
    "\n",
    "1. Create two NumPy arrays, A and B, each with 5 random integers\n",
    "between 1 and 20.\n",
    "2. Write a Python program to:\n",
    "o Add, subtract, multiply, and divide the two arrays elementwise.\n",
    "o Compute the dot product of the arrays.\n",
    "o Find the mean, median, standard deviation, and variance of\n",
    "array A.\n",
    "o Identify the maximum and minimum values in array B and\n",
    "their indices.\n"
   ]
  },
  {
   "cell_type": "code",
   "execution_count": null,
   "id": "1b4def90",
   "metadata": {},
   "outputs": [
    {
     "name": "stdout",
     "output_type": "stream",
     "text": [
      "[15  1 18  5  1]\n",
      "[ 8  6 19  7  9]\n"
     ]
    }
   ],
   "source": [
    "A=np.random.randint(1,21,5)\n",
    "B=np.random.randint(1,21,5)\n",
    "print(A)\n",
    "print(B)"
   ]
  },
  {
   "cell_type": "code",
   "execution_count": null,
   "id": "b865c7fd",
   "metadata": {},
   "outputs": [
    {
     "name": "stdout",
     "output_type": "stream",
     "text": [
      "\n",
      "Addition: [23  7 37 12 10]\n",
      "Subtraction: [ 7 -5 -1 -2 -8]\n",
      "Multiplication: [120   6 342  35   9]\n",
      "Division: [1.875      0.16666667 0.94736842 0.71428571 0.11111111]\n"
     ]
    }
   ],
   "source": [
    "print(\"\\nAddition:\", A + B)\n",
    "print(\"Subtraction:\", A - B)\n",
    "print(\"Multiplication:\", A * B)\n",
    "print(\"Division:\", A / B)"
   ]
  },
  {
   "cell_type": "code",
   "execution_count": null,
   "id": "550374f8",
   "metadata": {},
   "outputs": [
    {
     "name": "stdout",
     "output_type": "stream",
     "text": [
      "512\n",
      "8.0\n",
      "5.0\n",
      "7.155417527999327\n",
      "51.2\n"
     ]
    }
   ],
   "source": [
    "Dot_Product=np.dot(A,B)\n",
    "print(Dot_Product)"
   ]
  },
  {
   "cell_type": "code",
   "execution_count": null,
   "id": "b8ba122f",
   "metadata": {},
   "outputs": [
    {
     "name": "stdout",
     "output_type": "stream",
     "text": [
      "8.0\n",
      "5.0\n",
      "7.155417527999327\n",
      "51.2\n"
     ]
    }
   ],
   "source": [
    "print(np.mean(A))\n",
    "print(np.median(A))\n",
    "print(np.std(A))\n",
    "print(np.var(A))"
   ]
  },
  {
   "cell_type": "code",
   "execution_count": null,
   "id": "040ebf55",
   "metadata": {},
   "outputs": [
    {
     "name": "stdout",
     "output_type": "stream",
     "text": [
      "19 2\n",
      "6 1\n"
     ]
    }
   ],
   "source": [
    "print(np.max(B),np.argmax(B))\n",
    "print(np.min(B),np.argmin(B))"
   ]
  },
  {
   "cell_type": "markdown",
   "id": "290e8a34",
   "metadata": {},
   "source": [
    "Task 4: Reshaping and Transposing\n",
    "\n",
    "1. Create a 1D NumPy array of 12 integers ranging from 1 to 12.\n",
    "2. Write a Python program to:\n",
    "o Reshape the array into a 2D array of shape (4, 3).\n",
    "o Reshape the array into a 3D array of shape (2, 2, 3).\n",
    "o Transpose the reshaped 2D array and display its shape."
   ]
  },
  {
   "cell_type": "code",
   "execution_count": null,
   "id": "094a764b",
   "metadata": {},
   "outputs": [
    {
     "name": "stdout",
     "output_type": "stream",
     "text": [
      "[ 1  2  3  4  5  6  7  8  9 10 11 12]\n"
     ]
    }
   ],
   "source": [
    "arr=np.arange(1,13)\n",
    "print(arr)"
   ]
  },
  {
   "cell_type": "code",
   "execution_count": null,
   "id": "ab9fbceb",
   "metadata": {},
   "outputs": [
    {
     "name": "stdout",
     "output_type": "stream",
     "text": [
      "[[ 1  2  3]\n",
      " [ 4  5  6]\n",
      " [ 7  8  9]\n",
      " [10 11 12]]\n"
     ]
    }
   ],
   "source": [
    "arr2=np.arange(1,13).reshape(4,3)\n",
    "print(arr2)"
   ]
  },
  {
   "cell_type": "code",
   "execution_count": null,
   "id": "c312dce7",
   "metadata": {},
   "outputs": [
    {
     "name": "stdout",
     "output_type": "stream",
     "text": [
      "[[[ 1  2  3]\n",
      "  [ 4  5  6]]\n",
      "\n",
      " [[ 7  8  9]\n",
      "  [10 11 12]]]\n"
     ]
    }
   ],
   "source": [
    "arr3=np.arange(1,13).reshape(2,2,3)\n",
    "print(arr3)"
   ]
  },
  {
   "cell_type": "code",
   "execution_count": null,
   "id": "d4574cc1",
   "metadata": {},
   "outputs": [
    {
     "name": "stdout",
     "output_type": "stream",
     "text": [
      "[[ 1  4  7 10]\n",
      " [ 2  5  8 11]\n",
      " [ 3  6  9 12]]\n",
      "(3, 4)\n"
     ]
    }
   ],
   "source": [
    "arr2=np.arange(1,13).reshape(4,3).T\n",
    "print(arr2)\n",
    "\n",
    "print(arr2.shape)"
   ]
  },
  {
   "cell_type": "markdown",
   "id": "66c8892c",
   "metadata": {},
   "source": [
    "Task 5: Boolean Masking and Filtering\n",
    "\n",
    "1. Create a NumPy array with 15 random integers between 10 and 50.\n",
    "2. Write a Python program to:\n",
    "o Find all elements greater than 25.\n",
    "o Replace all elements less than 30 with 0.\n",
    "o Count the number of elements divisible by 5."
   ]
  },
  {
   "cell_type": "code",
   "execution_count": null,
   "id": "b19d0f7e",
   "metadata": {},
   "outputs": [
    {
     "name": "stdout",
     "output_type": "stream",
     "text": [
      "[30 39 24 35 44 40 39 24 21 24 35 14 42 31 30]\n"
     ]
    }
   ],
   "source": [
    "arr=np.random.randint(10,51,15)\n",
    "print(arr)"
   ]
  },
  {
   "cell_type": "code",
   "execution_count": null,
   "id": "0e6bd35d",
   "metadata": {},
   "outputs": [
    {
     "name": "stdout",
     "output_type": "stream",
     "text": [
      "[30 39 35 44 40 39 35 42 31 30]\n"
     ]
    }
   ],
   "source": [
    "print(arr[arr>25])"
   ]
  },
  {
   "cell_type": "code",
   "execution_count": null,
   "id": "ea3fb031",
   "metadata": {},
   "outputs": [
    {
     "name": "stdout",
     "output_type": "stream",
     "text": [
      "[30 39  0 35 44 40 39  0  0  0 35  0 42 31 30]\n"
     ]
    }
   ],
   "source": [
    "arr2=arr.copy()\n",
    "arr2[arr2<30]=0\n",
    "print(arr2)"
   ]
  },
  {
   "cell_type": "code",
   "execution_count": null,
   "id": "898b0088",
   "metadata": {},
   "outputs": [
    {
     "name": "stdout",
     "output_type": "stream",
     "text": [
      "[30 35 40 35 30]\n",
      "5\n"
     ]
    }
   ],
   "source": [
    "count=arr[(arr%5==0)&(arr!=0)]\n",
    "print(count)\n",
    "print(count.size)"
   ]
  },
  {
   "cell_type": "markdown",
   "id": "b72a61d0",
   "metadata": {},
   "source": [
    "Task 6: Working with Built-in Functions\n",
    "\n",
    "1. Use NumPy's built-in functions to:\n",
    "o Create an array of 10 equally spaced values between 0 and 1.\n",
    "o Create an identity matrix of size 4x4.\n",
    "o Generate a 1D array of 20 random integers between 1 and 100,\n",
    "sort it, and find the 5 largest elements."
   ]
  },
  {
   "cell_type": "code",
   "execution_count": null,
   "id": "27e6e86a",
   "metadata": {},
   "outputs": [
    {
     "name": "stdout",
     "output_type": "stream",
     "text": [
      "[0.         0.11111111 0.22222222 0.33333333 0.44444444 0.55555556\n",
      " 0.66666667 0.77777778 0.88888889 1.        ]\n"
     ]
    }
   ],
   "source": [
    "arr=np.linspace(0,1,10)\n",
    "print(arr)"
   ]
  },
  {
   "cell_type": "code",
   "execution_count": null,
   "id": "cb76c7fc",
   "metadata": {},
   "outputs": [
    {
     "name": "stdout",
     "output_type": "stream",
     "text": [
      "[[1. 0. 0. 0.]\n",
      " [0. 1. 0. 0.]\n",
      " [0. 0. 1. 0.]\n",
      " [0. 0. 0. 1.]]\n"
     ]
    }
   ],
   "source": [
    "arr2=np.eye(4)\n",
    "print(arr2)"
   ]
  },
  {
   "cell_type": "code",
   "execution_count": null,
   "id": "20e8b158",
   "metadata": {},
   "outputs": [
    {
     "name": "stdout",
     "output_type": "stream",
     "text": [
      "[75 81 35 29 73 74 91  5 52 79 96 11  4 43 37 56 58 45 63 29]\n"
     ]
    }
   ],
   "source": [
    "arr3=np.random.randint(1,101,20)\n",
    "print(arr3)"
   ]
  },
  {
   "cell_type": "code",
   "execution_count": null,
   "id": "8e2fb7d5",
   "metadata": {},
   "outputs": [
    {
     "name": "stdout",
     "output_type": "stream",
     "text": [
      "[ 4  5 11 29 29 35 37 43 45 52 56 58 63 73 74 75 79 81 91 96]\n"
     ]
    }
   ],
   "source": [
    "sorted=np.sort(arr3)\n",
    "print(sorted)"
   ]
  },
  {
   "cell_type": "code",
   "execution_count": null,
   "id": "480f5b28",
   "metadata": {},
   "outputs": [
    {
     "name": "stdout",
     "output_type": "stream",
     "text": [
      "[75 79 81 91 96]\n"
     ]
    }
   ],
   "source": [
    "print(sorted[-5:])"
   ]
  },
  {
   "cell_type": "markdown",
   "id": "9d627455",
   "metadata": {},
   "source": [
    "Task 7: Generic\n",
    "\n",
    "1. Create a Python program that:\n",
    "o Generates two large random arrays of size (100, 100).\n",
    "o Performs matrix multiplication on the two arrays.\n",
    "o Finds the determinant and inverse of the resulting matrix (if\n",
    "possible).\n",
    "o Measures the time taken to complete these operations."
   ]
  },
  {
   "cell_type": "code",
   "execution_count": null,
   "id": "e392a17f",
   "metadata": {},
   "outputs": [
    {
     "name": "stdout",
     "output_type": "stream",
     "text": [
      "✅ Matrix multiplication complete.\n",
      "🕒 Time taken: 0.0584 seconds\n",
      "🔢 Determinant: -7.88e+49\n",
      "✅ Inverse computed successfully.\n"
     ]
    },
    {
     "data": {
      "image/png": "[encoded data removed]",
      "text/plain": [
       "<Figure size 800x600 with 2 Axes>"
      ]
     },
     "metadata": {},
     "output_type": "display_data"
    }
   ],
   "source": [
    "import numpy as np\n",
    "import seaborn as sns\n",
    "import matplotlib.pyplot as plt\n",
    "import time\n",
    "\n",
    "A = np.random.rand(100, 100)\n",
    "B = np.random.rand(100, 100)\n",
    "\n",
    "start_time = time.time()\n",
    "\n",
    "product = np.dot(A, B)\n",
    "\n",
    "det=np.linalg.det(product)\n",
    "try:\n",
    "    det = np.linalg.det(product)\n",
    "    inverse = np.linalg.inv(product)\n",
    "    det_str = f\"{det:.2e}\"\n",
    "    success = True\n",
    "except np.linalg.LinAlgError:\n",
    "    det_str = \"Not computable (Singular matrix)\"\n",
    "    inverse = None\n",
    "    success = False\n",
    "\n",
    "end_time = time.time()\n",
    "elapsed_time = end_time - start_time\n",
    "\n",
    "print(\" Matrix multiplication complete.\")\n",
    "print(f\" Time taken: {elapsed_time:.4f} seconds\")\n",
    "print(f\"Determinant: {det_str}\")\n",
    "if success:\n",
    "    print(\" Inverse computed successfully.\")\n",
    "else:\n",
    "    print(\" Matrix is singular; inverse not possible.\")\n",
    "\n",
    "plt.figure(figsize=(8, 6))\n",
    "sns.heatmap(product[:10, :10], cmap='viridis', annot=False)\n",
    "plt.title(\"Heatmap of Top-Left 10x10 of Product Matrix\")\n",
    "plt.show()\n"
   ]
  }
 ],
 "metadata": {
  "kernelspec": {
   "display_name": "Python 3",
   "language": "python",
   "name": "python3"
  },
  "language_info": {
   "codemirror_mode": {
    "name": "ipython",
    "version": 3
   },
   "file_extension": ".py",
   "mimetype": "text/x-python",
   "name": "python",
   "nbconvert_exporter": "python",
   "pygments_lexer": "ipython3",
   "version": "3.12.1"
  }
 },
 "nbformat": 4,
 "nbformat_minor": 5
}
